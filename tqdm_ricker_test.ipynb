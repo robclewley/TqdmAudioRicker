{
 "cells": [
  {
   "cell_type": "markdown",
   "metadata": {},
   "source": [
    "# Tqdm audio progress ticker and Ricker for Jupyter notebooks"
   ]
  },
  {
   "cell_type": "code",
   "execution_count": 1,
   "metadata": {
    "scrolled": true
   },
   "outputs": [
    {
     "data": {
      "text/html": [
       "\n",
       "                <audio controls=\"controls\" autoplay=\"autoplay\">\n",
       "                    <source src=\"data:audio/wav;base64,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\" type=\"audio/wav\" />\n",
       "                    Your browser does not support the audio element.\n",
       "                </audio>\n",
       "              "
      ],
      "text/plain": [
       "<IPython.lib.display.Audio object>"
      ]
     },
     "metadata": {},
     "output_type": "display_data"
    },
    {
     "data": {
      "text/html": [
       "<span><style>audio{display:none}</style><span>"
      ],
      "text/plain": [
       "<IPython.core.display.HTML object>"
      ]
     },
     "metadata": {},
     "output_type": "display_data"
    },
    {
     "data": {
      "text/html": [
       "\n",
       "                <audio controls=\"controls\" autoplay=\"autoplay\">\n",
       "                    <source src=\"data:audio/wav;base64,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\" type=\"audio/wav\" />\n",
       "                    Your browser does not support the audio element.\n",
       "                </audio>\n",
       "              "
      ],
      "text/plain": [
       "<IPython.lib.display.Audio object>"
      ]
     },
     "metadata": {},
     "output_type": "display_data"
    },
    {
     "data": {
      "text/html": [
       "<span><style>audio{display:none}</style><span>"
      ],
      "text/plain": [
       "<IPython.core.display.HTML object>"
      ]
     },
     "metadata": {},
     "output_type": "display_data"
    }
   ],
   "source": [
    "from tqdm_ricker import tqdm_audio_ticker, tqdm_audio_ricker # only import these once per session\n",
    "import urllib\n",
    "import os\n",
    "import time"
   ]
  },
  {
   "cell_type": "markdown",
   "metadata": {},
   "source": [
    "## Retro blip ticker"
   ]
  },
  {
   "cell_type": "code",
   "execution_count": 2,
   "metadata": {},
   "outputs": [
    {
     "name": "stderr",
     "output_type": "stream",
     "text": [
      "matryoshka.zip:   0%|          | 33.0/260k [00:01<2:48:21, 25.7B/s] \n"
     ]
    }
   ],
   "source": [
    "eg_link = \"https://caspersci.uk.to/matryoshka.zip\"\n",
    "with tqdm_audio_ticker(unit='B', unit_scale=True, miniters=1,\n",
    "              desc=eg_link.split('/')[-1]) as t:  # all optional kwargs\n",
    "    urllib.request.urlretrieve(eg_link, filename=os.devnull,\n",
    "                       reporthook=t.update_to, data=None)"
   ]
  },
  {
   "cell_type": "code",
   "execution_count": 3,
   "metadata": {},
   "outputs": [
    {
     "name": "stderr",
     "output_type": "stream",
     "text": [
      "Processing z: 100%|██████████| 26/26 [00:02<00:00,  9.24it/s]\n"
     ]
    }
   ],
   "source": [
    "with tqdm_audio_ticker([\"a\", \"b\", \"c\", \"d\", \"e\", \"f\", \"g\", \"h\", \"i\", \"j\", \"k\", \"l\", \"m\", \"n\",\n",
    "                      \"o\", \"p\", \"q\", \"r\", \"s\", \"t\", \"u\", \"v\", \"w\", \"x\", \"y\", \"z\"],\n",
    "                     freq_step=20) as pbar:\n",
    "    for char in pbar:\n",
    "        pbar.set_description(\"Processing %s\" % char)\n",
    "        time.sleep(0.1)"
   ]
  },
  {
   "cell_type": "markdown",
   "metadata": {},
   "source": [
    "## Ricker -- *woo vu lubub dub dub*"
   ]
  },
  {
   "cell_type": "code",
   "execution_count": 7,
   "metadata": {},
   "outputs": [
    {
     "name": "stderr",
     "output_type": "stream",
     "text": [
      "matryoshka.zip:   0%|          | 33.0/260k [00:02<4:28:26, 16.1B/s] \n"
     ]
    }
   ],
   "source": [
    "eg_link = \"https://caspersci.uk.to/matryoshka.zip\"\n",
    "with tqdm_audio_ricker(unit='B', unit_scale=True, miniters=1,\n",
    "              desc=eg_link.split('/')[-1], total=50) as t:  # all optional kwargs\n",
    "    urllib.request.urlretrieve(eg_link, filename=os.devnull,\n",
    "                       reporthook=t.update_to, data=None)"
   ]
  },
  {
   "cell_type": "code",
   "execution_count": 5,
   "metadata": {},
   "outputs": [
    {
     "name": "stderr",
     "output_type": "stream",
     "text": [
      "Processing z: 100%|██████████| 26/26 [00:03<00:00,  7.78it/s]\n"
     ]
    }
   ],
   "source": [
    "with tqdm_audio_ricker([\"a\", \"b\", \"c\", \"d\", \"e\", \"f\", \"g\", \"h\", \"i\", \"j\", \"k\", \"l\", \"m\", \"n\",\n",
    "                      \"o\", \"p\", \"q\", \"r\", \"s\", \"t\", \"u\", \"v\", \"w\", \"x\", \"y\", \"z\"],\n",
    "                     total=26) as pbar:\n",
    "    for char in pbar:\n",
    "        pbar.set_description(\"Processing %s\" % char)\n",
    "        time.sleep(0.12)"
   ]
  },
  {
   "cell_type": "code",
   "execution_count": 6,
   "metadata": {},
   "outputs": [
    {
     "name": "stderr",
     "output_type": "stream",
     "text": [
      "Processing z: 100%|██████████| 26/26 [00:03<00:00,  7.76it/s]\n"
     ]
    }
   ],
   "source": [
    "with tqdm_audio_ticker([\"a\", \"b\", \"c\", \"d\", \"e\", \"f\", \"g\", \"h\", \"i\", \"j\", \"k\", \"l\", \"m\", \"n\",\n",
    "                      \"o\", \"p\", \"q\", \"r\", \"s\", \"t\", \"u\", \"v\", \"w\", \"x\", \"y\", \"z\"],\n",
    "                     total=26, duration=0.1, freq_step=-50, start_freq=1500) as pbar:\n",
    "    for char in pbar:\n",
    "        pbar.set_description(\"Processing %s\" % char)\n",
    "        time.sleep(0.12)"
   ]
  },
  {
   "cell_type": "code",
   "execution_count": null,
   "metadata": {},
   "outputs": [],
   "source": []
  }
 ],
 "metadata": {
  "kernelspec": {
   "display_name": "Python 3",
   "language": "python",
   "name": "python3"
  },
  "language_info": {
   "codemirror_mode": {
    "name": "ipython",
    "version": 3
   },
   "file_extension": ".py",
   "mimetype": "text/x-python",
   "name": "python",
   "nbconvert_exporter": "python",
   "pygments_lexer": "ipython3",
   "version": "3.6.5"
  }
 },
 "nbformat": 4,
 "nbformat_minor": 2
}
