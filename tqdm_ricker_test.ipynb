{
 "cells": [
  {
   "cell_type": "markdown",
   "metadata": {},
   "source": [
    "# Tqdm audio progress ticker and Ricker for Jupyter notebooks\n",
    "\n",
    "## ipython's built in audio currently has no volume control, so _please turn down your volume!_"
   ]
  },
  {
   "cell_type": "code",
   "execution_count": 1,
   "metadata": {
    "scrolled": true
   },
   "outputs": [
    {
     "data": {
      "text/html": [
       "\n",
       "                <audio controls=\"controls\" autoplay=\"autoplay\">\n",
       "                    <source src=\"data:audio/wav;base64,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\" type=\"audio/wav\" />\n",
       "                    Your browser does not support the audio element.\n",
       "                </audio>\n",
       "              "
      ],
      "text/plain": [
       "<IPython.lib.display.Audio object>"
      ]
     },
     "metadata": {},
     "output_type": "display_data"
    },
    {
     "data": {
      "text/html": [
       "<span><style>audio{display:none}</style><span>"
      ],
      "text/plain": [
       "<IPython.core.display.HTML object>"
      ]
     },
     "metadata": {},
     "output_type": "display_data"
    },
    {
     "data": {
      "text/html": [
       "\n",
       "                <audio controls=\"controls\" autoplay=\"autoplay\">\n",
       "                    <source src=\"data:audio/wav;base64,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\" type=\"audio/wav\" />\n",
       "                    Your browser does not support the audio element.\n",
       "                </audio>\n",
       "              "
      ],
      "text/plain": [
       "<IPython.lib.display.Audio object>"
      ]
     },
     "metadata": {},
     "output_type": "display_data"
    },
    {
     "data": {
      "text/html": [
       "<span><style>audio{display:none}</style><span>"
      ],
      "text/plain": [
       "<IPython.core.display.HTML object>"
      ]
     },
     "metadata": {},
     "output_type": "display_data"
    },
    {
     "data": {
      "text/html": [
       "\n",
       "                <audio controls=\"controls\" autoplay=\"autoplay\">\n",
       "                    <source src=\"data:audio/wav;base64,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\" type=\"audio/wav\" />\n",
       "                    Your browser does not support the audio element.\n",
       "                </audio>\n",
       "              "
      ],
      "text/plain": [
       "<IPython.lib.display.Audio object>"
      ]
     },
     "metadata": {},
     "output_type": "display_data"
    },
    {
     "data": {
      "text/html": [
       "<span><style>audio{display:none}</style><span>"
      ],
      "text/plain": [
       "<IPython.core.display.HTML object>"
      ]
     },
     "metadata": {},
     "output_type": "display_data"
    }
   ],
   "source": [
    "# only import these once per session (restart)\n",
    "from tqdm_ricker import tqdm_audio_ticker, tqdm_audio_ricker, tqdm_music_ticker\n",
    "from note_utils import *\n",
    "\n",
    "import urllib\n",
    "import os\n",
    "import time"
   ]
  },
  {
   "cell_type": "markdown",
   "metadata": {},
   "source": [
    "## Retro blip ticker\n",
    "\n",
    "### Can choose: frequency step (Hz to change per step); wave type = 'saw', 'square', or 'sine' (default); and duration of each tone in seconds (make sure it's not much longer than the time to execute one step)"
   ]
  },
  {
   "cell_type": "code",
   "execution_count": 2,
   "metadata": {},
   "outputs": [
    {
     "name": "stderr",
     "output_type": "stream",
     "text": [
      "matryoshka.zip:   0%|          | 33.0/260k [00:01<4:08:44, 17.4B/s] \n"
     ]
    }
   ],
   "source": [
    "eg_link = \"https://caspersci.uk.to/matryoshka.zip\"\n",
    "with tqdm_audio_ticker(unit='B', unit_scale=True, miniters=1,\n",
    "              desc=eg_link.split('/')[-1]) as t:  # all optional kwargs\n",
    "    urllib.request.urlretrieve(eg_link, filename=os.devnull,\n",
    "                       reporthook=t.update_to, data=None)"
   ]
  },
  {
   "cell_type": "code",
   "execution_count": 3,
   "metadata": {},
   "outputs": [],
   "source": [
    "alphabet = [\"a\", \"b\", \"c\", \"d\", \"e\", \"f\", \"g\", \"h\", \"i\", \"j\", \"k\", \"l\", \"m\", \"n\",\n",
    "                      \"o\", \"p\", \"q\", \"r\", \"s\", \"t\", \"u\", \"v\", \"w\", \"x\", \"y\", \"z\"]"
   ]
  },
  {
   "cell_type": "code",
   "execution_count": 4,
   "metadata": {},
   "outputs": [
    {
     "name": "stderr",
     "output_type": "stream",
     "text": [
      "Processing z: 100%|██████████| 26/26 [00:02<00:00,  9.18it/s]\n"
     ]
    }
   ],
   "source": [
    "with tqdm_audio_ticker(alphabet, total=len(alphabet),\n",
    "                       wav_kind='saw', duration=0.06) as pbar:\n",
    "    for char in pbar:\n",
    "        pbar.set_description(\"Processing %s\" % char)\n",
    "        time.sleep(0.1)"
   ]
  },
  {
   "cell_type": "code",
   "execution_count": 5,
   "metadata": {},
   "outputs": [
    {
     "name": "stderr",
     "output_type": "stream",
     "text": [
      "Processing z: 100%|██████████| 26/26 [00:03<00:00,  7.73it/s]\n"
     ]
    }
   ],
   "source": [
    "with tqdm_audio_ticker(alphabet, total=len(alphabet),\n",
    "                       duration=0.1, freq_step=-50, wav_kind='square',\n",
    "                       start_freq=1500) as pbar:\n",
    "    for char in pbar:\n",
    "        pbar.set_description(\"Processing %s\" % char)\n",
    "        time.sleep(0.12)"
   ]
  },
  {
   "cell_type": "markdown",
   "metadata": {},
   "source": [
    "## Ricker -- *woo vu lubub dub dub*"
   ]
  },
  {
   "cell_type": "code",
   "execution_count": 6,
   "metadata": {},
   "outputs": [
    {
     "name": "stderr",
     "output_type": "stream",
     "text": [
      "matryoshka.zip:   0%|          | 33.0/260k [00:01<3:02:22, 23.7B/s] \n"
     ]
    }
   ],
   "source": [
    "eg_link = \"https://caspersci.uk.to/matryoshka.zip\"\n",
    "with tqdm_audio_ricker(unit='B', unit_scale=True, miniters=1,\n",
    "              desc=eg_link.split('/')[-1], total=50) as t:  # all optional kwargs\n",
    "    urllib.request.urlretrieve(eg_link, filename=os.devnull,\n",
    "                       reporthook=t.update_to, data=None)"
   ]
  },
  {
   "cell_type": "code",
   "execution_count": 7,
   "metadata": {},
   "outputs": [
    {
     "name": "stderr",
     "output_type": "stream",
     "text": [
      "Processing z: 100%|██████████| 26/26 [00:03<00:00,  7.75it/s]\n"
     ]
    }
   ],
   "source": [
    "with tqdm_audio_ricker(alphabet, total=len(alphabet)) as pbar:\n",
    "    for char in pbar:\n",
    "        pbar.set_description(\"Processing %s\" % char)\n",
    "        time.sleep(0.12)"
   ]
  },
  {
   "cell_type": "markdown",
   "metadata": {},
   "source": [
    "## Make your own tone sequence, including import from MIDI!\n",
    "\n",
    "### e.g. Close Encounters of the tqdm kind"
   ]
  },
  {
   "cell_type": "code",
   "execution_count": 8,
   "metadata": {},
   "outputs": [],
   "source": [
    "# This is actually the default sequence if you don't specify a `seq` parameter.\n",
    "# The pitch is set either by a pair of note name and octave number, or a single float\n",
    "#  frequency.\n",
    "# The \"tempo\" setting the time value of an \"eighth\" note is the `note_duration` parameter\n",
    "#  in the ticker.\n",
    "ce_sequence = [(('G', 4), EIGHTH_NOTE), (('A', 4), EIGHTH_NOTE), (('F', 4), EIGHTH_NOTE),\n",
    "               (('F', 3), EIGHTH_NOTE), (('C', 4), QUARTER_NOTE), (('', 0), QUARTER_NOTE)]"
   ]
  },
  {
   "cell_type": "code",
   "execution_count": 9,
   "metadata": {
    "scrolled": true
   },
   "outputs": [
    {
     "name": "stderr",
     "output_type": "stream",
     "text": [
      "Processing 7999: 100%|██████████| 8000/8000 [00:11<00:00, 676.57it/s]\n"
     ]
    }
   ],
   "source": [
    "with tqdm_music_ticker(range(8000),\n",
    "                     total=8000, note_duration=0.08, every=80, seq=ce_sequence) as pbar:\n",
    "    for char in pbar:\n",
    "        pbar.set_description(\"Processing %s\" % char)"
   ]
  },
  {
   "cell_type": "markdown",
   "metadata": {},
   "source": [
    "# Now let's try importing some (almost) monophonic MIDI data"
   ]
  },
  {
   "cell_type": "code",
   "execution_count": 10,
   "metadata": {},
   "outputs": [
    {
     "name": "stdout",
     "output_type": "stream",
     "text": [
      "Sequence has 1319 items\n",
      "Sequence is made up of (frequency (Hz), duration (int)) pairs, or (None, duration) for a rest,\n",
      "  where duration is an integer that will multiply the base `note_duration` parameter given to the ticker.\n",
      "[(1760.0, 2), (1661.2187903197805, 2), (1567.981743926997, 2), (1479.9776908465376, 2), (1567.981743926997, 2)]\n"
     ]
    }
   ],
   "source": [
    "# Grab a simple version of Flight of the Bumblebee online in MIDI format, then convert it.\n",
    "# This depends on the mido library being installed!\n",
    "try:\n",
    "    import mido\n",
    "except ImportError:\n",
    "    # allow the next cell to still work\n",
    "    print(\"No mido library installed, defaulting to Close Encounters.\")\n",
    "    bb_sequence = ce_sequence\n",
    "else:\n",
    "    bb_sequence = get_note_from_midi(fetch_resource('https://www.8notes.com/school/midi/piano/bumble_bee.mid'),\n",
    "                                     0, 0.053)\n",
    "    print(\"Sequence has {} items\".format(len(bb_sequence)))\n",
    "    print(\"Sequence is made up of (frequency (Hz), duration (int)) pairs, or (None, duration) for a rest,\")\n",
    "    print(\"  where duration is an integer that will multiply the base `note_duration` parameter given to the ticker.\")\n",
    "    print(bb_sequence[:5])"
   ]
  },
  {
   "cell_type": "code",
   "execution_count": 11,
   "metadata": {},
   "outputs": [
    {
     "name": "stderr",
     "output_type": "stream",
     "text": [
      "Processing 2999: 100%|██████████| 3000/3000 [01:16<00:00, 39.24it/s]\n"
     ]
    }
   ],
   "source": [
    "with tqdm_music_ticker(range(3000), total=3000, note_duration=0.05, wav_kind='saw',\n",
    "                       every=2, seq=bb_sequence) as pbar:\n",
    "    for i in pbar:\n",
    "        pbar.set_description(\"Processing %s\" % i)\n",
    "        # you have to have some idea in advance how long the steps will take\n",
    "        # so you can select the note durations and/or step (`every` parameter) appropriately.\n",
    "        # suppose steps take ~0.02s\n",
    "        time.sleep(0.02)"
   ]
  },
  {
   "cell_type": "code",
   "execution_count": null,
   "metadata": {},
   "outputs": [],
   "source": []
  }
 ],
 "metadata": {
  "kernelspec": {
   "display_name": "Python 3",
   "language": "python",
   "name": "python3"
  },
  "language_info": {
   "codemirror_mode": {
    "name": "ipython",
    "version": 3
   },
   "file_extension": ".py",
   "mimetype": "text/x-python",
   "name": "python",
   "nbconvert_exporter": "python",
   "pygments_lexer": "ipython3",
   "version": "3.6.5"
  }
 },
 "nbformat": 4,
 "nbformat_minor": 2
}
