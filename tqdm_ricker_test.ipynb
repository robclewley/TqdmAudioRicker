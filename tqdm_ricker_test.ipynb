{
 "cells": [
  {
   "cell_type": "markdown",
   "metadata": {},
   "source": [
    "# Tqdm audio progress ticker and Ricker for Jupyter notebooks"
   ]
  },
  {
   "cell_type": "code",
   "execution_count": 1,
   "metadata": {
    "scrolled": true
   },
   "outputs": [
    {
     "data": {
      "text/html": [
       "\n",
       "                <audio controls=\"controls\" autoplay=\"autoplay\">\n",
       "                    <source src=\"data:audio/wav;base64,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\" type=\"audio/wav\" />\n",
       "                    Your browser does not support the audio element.\n",
       "                </audio>\n",
       "              "
      ],
      "text/plain": [
       "<IPython.lib.display.Audio object>"
      ]
     },
     "metadata": {},
     "output_type": "display_data"
    },
    {
     "data": {
      "text/html": [
       "<span><style>audio{display:none}</style><span>"
      ],
      "text/plain": [
       "<IPython.core.display.HTML object>"
      ]
     },
     "metadata": {},
     "output_type": "display_data"
    },
    {
     "data": {
      "text/html": [
       "\n",
       "                <audio controls=\"controls\" autoplay=\"autoplay\">\n",
       "                    <source src=\"data:audio/wav;base64,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\" type=\"audio/wav\" />\n",
       "                    Your browser does not support the audio element.\n",
       "                </audio>\n",
       "              "
      ],
      "text/plain": [
       "<IPython.lib.display.Audio object>"
      ]
     },
     "metadata": {},
     "output_type": "display_data"
    },
    {
     "data": {
      "text/html": [
       "<span><style>audio{display:none}</style><span>"
      ],
      "text/plain": [
       "<IPython.core.display.HTML object>"
      ]
     },
     "metadata": {},
     "output_type": "display_data"
    },
    {
     "data": {
      "text/html": [
       "\n",
       "                <audio controls=\"controls\" autoplay=\"autoplay\">\n",
       "                    <source src=\"data:audio/wav;base64,UklGRrQbAABXQVZFZm10IBAAAAABAAEARKwAAIhYAQACABAAZGF0YZAbAAAAAAIACQAUACQAOQBRAG4AjgCyANkABAEwAV8BkAHCAfUBKAJcAo8CwgLzAiIDTwN5A6ADxAPjA/4DFAQlBDAENQQ0BC0EHwQKBO4DywOgA28DNgP2Aq8CYgINArIBUQHqAH0ACwCW/xv/nP4b/pb9EP2J/AD8ePvw+mn65flj+eX4avj194X3HPe59l72DPbC9YH1SvUe9f305/Td9N/07fQI9S/1Y/Wk9fL1Tfa19in3qfc1+M34cPkd+tX6lvtg/DL9DP7s/tL/vACrAZwCkAOEBHkFbAZdB0sINAkYCvUKywuYDFwNFA7CDmIP9Q96EPAQVhGsEfARIxJDElESTBI0EggSyRF2ERARlxAKEGsPuQ71DSANOgxECz4KKwkKCNwGpAVhBBUDwgFoAAr/p/1C/Nz6d/kU+LX2W/UH9LvyefFC8Bfv+u3s7O/rA+sq6mXptega6JfnK+fX5p3me+Z05ofmtOb85l7n2+dy6CLp7OnP6svr3ewH7kXvmfAA8njzAvWb9kL49fmz+3n9R/8ZAfACyQShBncISQoVDNkNlA9CEeQSdRT2FWQXvRgBGiwbPxw4HRQe1R53H/sfXyCjIMcgySCqIGkgBiCCH90eFx4wHSocBRvBGWEY5RZOFZ4T1hH5DwcOAwzvCcwHnAVjAyEB2/6Q/EP6+Pex9W/zNvEI7+bs0+rS6OXmDeVN46fhHeCw3mLdNdwq20PagNnj2G3YHtj31/jXI9h12PHYltli2lbbctyz3RnfpOBR4h/kDeYY6EDqgeza7knxy/Nd9v74qvtg/hoB2gOaBlgJEQzCDmkRAxSNFgQZZhuvHd8f8iHmI7glZyfxKFQqjiueLIMtOi7ELiAvTC9ILxQvsS4dLlotaCxHK/gpfSjWJgYlDSPuIKoeRBy+GRkXWRSBEZIOkQt/CGAFNwII/9T7oPhv9UTyIu8N7AjpFeY543Xgzt1G29/YnNaA1I7SxtAsz8HNh8yAy6zKDcqkyXLJdsmyySTKz8qvy8bME86Tz0fRLNNB1YTX9NmM3E3fMeI45V7ooOv77mvy7vV/+Rz9vwBmBA8IswtRD+MSZxbZGTUddyCdI6ImhSlBLNMuOTFxM3c1SjfmOEw6eDtpPB49lj3RPc09iz0KPUs8TjsUOp447DYBNd8yhjD5LTsrTig1JfMhih7/GlQXjhOvD7wLuQepA5L/dvtZ90HzMe8t6zrnXOOW3+3bZNj/1MLRsM7NyxvJncZXxEvCe8Dpvpe9h7y6uzG77bruuja7w7uWvK29Cb+owInCqsQJx6TJecyFz8XSNtbV2Z/dj+Gi5dPpIO6D8vj2e/sGAJcEKAm0DTcSrBYOG1ofiyOcJ4grTS/mMk82hTmDPEg/z0EWRBtG20dUSYRKa0sGTFVMV0wMTHRLj0peSeFHG0YMRLZBHD9APCQ5yzU5MnAudipMJvghfR3hGCcUVA9uCngFeAB0+2/2bvF47JHnv+IF3mnZ8NSf0HnMg8jCxDrB7b3huhe4k7VZs2mxx691rnStxqxqrGOssaxSrUiuka8ssRmzVbXet7K6zr0wwdXEuMjXzC3RtdVt2k7fVeR86b7uFvR++fL+awTkCVkPwhQbGl8fhySOKXAuJzOvNwI8HED4Q5RH6kr3TblQKlNLVRZXjFipWWxa1VrjWpVa61nmWIZXzVW8U1VRmk6NSzJIi0ScQGg89DdEM10uQyn7I4se+BhHE34Nowe7Ac774PX37xrqT+Sa3gPZj9NEzibJPcSLvxe75bb6slmvB6wHqVymCqQTonmgPp9knuyd150kntWe6J9coTKjZqX3p+OqJ67Bsau15Llnvi/DOMh9zfnSpth/3n/knurY8CX3gP3iA0QKohDzFjEdVyNdKT4v9DR4OsY/1kSlSS5OalJXVu9ZL10TYJlivWR8ZtZnyGhRaXBpJGlvaE9nx2XXY4Fhxl6rWzBYW1QtUKxL20bAQV88vTbgMM0qjCQhHpMX6RAqClsDhvyu9dzuF+hl4c7aWNQJzunH/cFLvNq2r7HQrEGoCKQooKech5nNlnuUlJIakQ+QdI9Kj5KPS5B2kRCTGpWRl3KavJ1soX2l7Km0rtKzQLn4vvbENMuq0VTYKt8l5j/tcPSy+/wCSAqPEcgY7R/3Jt0tmjQmO3tBkUdjTetSI1gFXYxhtGV4adRsxG9GclV08XUXd8V3+3e5d/12yXUddPxxZm9ebOdoBGW5YApc+1aSUdJLw0VqP8048zHiKqIjORyvFAwNWAWa/dn1He5v5tfeW9cD0NjI4MEiu6a0ca6MqPuixZ3umH2UdZDbjLSJAofIhAmDx4EDgcCA/IC4gfSCr4Tohr6JC43LkPyUmJmcngGkw6ncr0W2+bzwwyPLjNIi2t/huemr8ar5rwG0Ca4RlxlmIRQpmDDrNwY/4UV3TL9StFhPXoxjZWjUbNZwZ3SCdyV6TXz4fSV/0X/9f6h/0n59fap7WnmQdk5zmW9za+Jm6GGNXNRWw1BiSrVDxTyXNTMuoSboHhAXIA8iBx3/GPcc7zHnX9+u1ybQzciswcq6LrTereCnO6L1nBKYmJOLj++LyIgYhuSDLILzgDqAAoBKgBOBW4IihGaGJIlZjAOQHpSlmJSd56KXqJ+u+bSeu4jCsMkP0Z3YUuAo6BXwEvgXABwIGRAGGNsfkCcdL3o2oT2KRC1LhVGLVzldiWJ2Z/trE3C7c+12qXnqe6598365f/5/w38Hf8t9EXzZeSd3/nNfcE9s02fuYqVd/lf/Ua1LD0UrPgk3ry8mKHQgoRi2ELkItACw+LHwwujr4DPZodE/yhLDI7x4tRmvCqlTo/qdA5lzlFCQnYxfiZeGSoR6gieBVYADgDGA4YAQgr6D6YWPiK2LQI9Ek7aXkZzQoW6nZa2vs0a6I8E/yJPPGdfH3pfmgO579n/+hAaEDnUWTx4KJqAtBzU6PC9D4UlJUGBWH1yDYYRmHmtMbwpzVHYneYF7Xn29fpx/+3/Zfzd/FH5zfFR6uneodCBxJ23AaO9jul4lWTdT9UxlRo8/eTgpMakp/iEyGkoSUQpNAkj6R/JV6njiudof07PLe8R/vca2V7A4qm+kAp/3mVOVGpFQjfqJG4e2hMyCYYF1gAmAHoC0gMmBXoNxhf6HBIuBjm+Sy5aSm72gSaYurGiy8bjAv9DGGs6W1T3dB+Xr7OP05/zsBO0M4hTBHIQkISyTM9A60kGSSAlPMFUCW3hgjWU8aoBuVHK2daF4E3sJfYF+en/yf+p/YX9YftB8ynpIeE513XH6bahp7GTLX0habFQ6TrlH8EDmOaIyKiuII8Eb3hPoC+YD4Pve8+jrBuRA3J/UKc3mxd2+F7iYsWmrjqUPoPCaN5bokQiOm4qkhyaFI4OfgZmAFIAPgIyAiIEEg/2EcodhisaNnpHllZearp8npfuqJbGet2C+ZMWjzBbUtNt441jrTfNO+1QDVwtOEzIb+yKhKhwyZDlyQEBHxk3+U+FZal+SZFZpr22acRN1Fnigeq98QH5Sf+V/9n+Hf5d+KH07e9J473WWcslujWrmZdhgaFudVXtPCklPQlE7GDSqLA8lTx1yFX8NfgV5/XX1fO2V5cndINahzlPHP8Bqud2ynayxph+h7Zsfl7uSxI5AizGIm4WAg+KBw4AkgAaAaYBMga6Cj4TshsKJEI3RkAKVn5mjngmkzKnlr0+2A736wy7Ll9It2urhxem28bb5uwG/CboRoxlxIR8pozD1NxA/60WATMhSvFhXXpNjbGjabNxwbHSGdyl6UHz7fSZ/0n/9f6d/0X57fad7VnmLdklzk29ta9tm4WGEXMtWulBYSqtDujyMNSgulibcHgQXFQ8WBxH/DPcQ7ybnVN+j1xvQw8iiwcC6JLTVrdinM6LtnAuYkpOFj+qLw4gVhuGDKoLygDqAAoBLgBSBXoIlhGmGKIlejAmQJJSsmJyd76KfqKiuArWou5LCu8ka0ajYXeAz6CHwHvgjACgIJRASGOYfmycoL4U2qz2TRDdLjlGUV0FdkWJ9ZwFsGXDAc/J2rHnse7B99X66f/5/wn8Gf8l9DnzWeSN3+XNZcElszGfmYp1d9lf2UaNLBUUhPv42pC8bKGgglhiqEK4IqQCk+Kbwt+jg4CjZl9E0ygjDGbxvtRCvAqlLo/Kd/JhtlEqQmIxaiZSGR4R3giaBVIADgDKA4oASgsGD7IWTiLKLRY9Kk72XmZzYoXanbq24s1C6LcFKyJ7PJNfS3qLmi+6G9ov+kAaPDoAWWh4WJqstEjVEPDlD60lSUGhWKFyKYYtmJGtRbw9zWXYreYR7YH2+fp1/+3/YfzV/En5wfFF6tnejdBtxIW25aOhjsl4dWS5T60xbRoU/bjgfMZ4p8yEmGj8SRQpBAjz6PPJJ6m3irtoU06jLccR1vb22TrAvqmek+57wmUyVFJFLjfaJF4eyhMqCX4F0gAmAHoC1gMuBYYN0hQKICYuGjnWS0paZm8WgUaY3rHKy+rjKv9vGJc6h1UjdEuX37O/08vz4BPkM7RTNHI8kLCydM9o63EGcSBJPOVUKW4BglGVCaoZuWnK7daV4FnsLfYN+e3/zf+p/YH9Wfs18xnpEeEl12HH0baJp5WTDX0BaY1QwTq9H5kDcOZcyHyt8I7Yb0xPcC9oD1PvS89zr++M13JTUHs3bxdO+DbiPsWCrhqUHoOmaMJbikQOOloqghyOFIYOdgZiAFIAQgI2AioEGgwCFdodmisuNpJHrlZ6atp8vpQSrLrGot2q+bsWuzCHUwNuD42PrWPNa+18DYgtaEz4bBiOsKiYybjl8QEpHz00GVOlZcV+ZZFxptW2gcRh1GnikerJ8Qn5Uf+V/9n+Gf5V+JX04e8546nWQcsNuhmreZdBgYFuUVXJPAElFQkc7DTSfLAQlRB1mFXMNcgVt/Wn1cO2K5b7dFdaWzknHNMBgudOylKyppheh5ZsYl7WSv447iy2Il4V9g+CBwoAkgAaAaoBNgbCCkoTvhseJFY3XkAmVppmrnhGk1Knur1i2DL0ExDjLotI42vXh0OnC8cL5xwHLCcYRrhl9ISoprTAAOBo/9UWJTNFSxVhfXptjcmjhbOFwcXSLdyx6U3z9fSd/0n/9f6Z/z355faR7UnmHdkRzjm9na9Rm2WF8XMJWsVBPSqFDsDyCNR0uiybRHvkWCQ8KBwX/AfcF7xrnSd+Y1xDQuMiYwbe6G7TMrc+nK6LmnASYi5OAj+WLv4gRht6DKILxgDmAAoBMgBaBYIIohG2GLIljjA+QK5SzmKOd96KoqLGuC7Wyu5zCxckk0bPYaeA+6CzwKvguADMIMRAdGPIfpicyL482tT2dREBLl1GcV0ldmGKEZwhsHnDFc/Z2sHnve7J99n67f/5/wn8Ef8d9C3zSeR939HNUcENsxWffYpVd7VftUZpL+0QWPvQ2mS8PKF0gihifEKIInQCY+JrwrOjU4BzZjNEqyv7CD7xltQav+ahDo+ud9ZhnlEWQk4xWiZCGRIR1giSBU4ADgDOA44AUgsOD8IWXiLaLS49Rk8SXoJzgoX+nd63Cs1m6N8FUyKnPL9fd3q3ml+6S9pf+nAabDosWZR4hJrYtHTVOPEND9ElbUHFWMFySYZJmKmtXbxRzXXYveYd7Yn3Afp5/+3/YfzR/EH5tfE16sneedBVxG22yaOBjql4UWSVT4kxSRns/ZDgUMZMp6CEbGjMSOgo2AjH6MPI+6mHiotoJ053LZsRrvbO2RbAmql+k857pmUaVDpFGjfGJFIevhMeCXYFzgAiAH4C2gM2BZIN3hQaIDouLjnuS2Zagm82gWaZArHuyBLnUv+XGMM6s1VPdHeUD7fv0/vwDBQUN+RTYHJokNyyoM+U65kGlSBtPQlUSW4dgm2VJaotuX3K/dal4GXsOfYR+fH/zf+l/X39Ufsp8w3pAeER103HubZtp3mS7XzhaWlQnTqZH3EDROYwyFCtxI6obxxPRC84DyfvH89Hr7+Mq3InUE83Rxcm+A7iGsVerfqX/n+KaKpbckf2Nkoqchx+FHoObgZeAE4AQgI6AjIEJgwSFeodqitGNqpHylaWavp84pQ2rN7Gxt3S+ecW4zCvUy9uO42/rZPNm+2sDbgtlE0kbEiO3KjEyeTmGQFNH2E0PVPFZeV+hZGNpu22lcR11HninerR8RH5Vf+V/9X+Ff5N+I300e8p45nWLcr1ugGrXZchgWFuMVWlP90g7Qj07AzSULPkkOR1bFWcNZwVh/V71Ze1+5bPdCtaLzj7HKsBXucqyi6ygpg+h3psRl66SuY42iymIlIV6g96BwYAjgAaAaoBPgbOClYTzhsuJGo3dkA+VrZmynhmk3an3r2K2Fr0PxEPLrNJE2gHi3OnO8c350gHXCdERuRmIITUpuDAKOCQ//0WTTNlSzVhnXqJjeWjnbOdwdXSPdzB6Vnz/fSl/03/8f6V/zn52faF7T3mDdj9ziG9ga81m0mF0XLpWqFBFSpdDpjx3NRIufybGHu0W/Q7/Bvr+9fb57g/nPd+N1wXQrsiOwa26ErTDrcenI6LfnP6XhZN6j+CLu4gOhtuDJoLvgDiAAoBMgBeBYoIrhHGGMYlojBSQMZS6mKud/6KwqLquFbW7u6fC0Mkv0b7YdOBK6DjwNfg6AD8IPBApGP0fsSc9L5o2wD2nREpLoFGlV1FdoGKLZw5sJHDKc/p2tHnye7R9+H67f/9/wX8Df8V9CHzPeRt373NOcD1svmfXYo1d5VfkUZBL8UQMPuk2jy8EKFIgfxiTEJcIkQCN+I/woOjJ4BHZgdEfyvTCBrxctf2u8Kg7o+Od7phglD+QjoxRiYyGQYRzgiOBUoACgDOA5YAWgsaD84WbiLuLUI9Xk8uXp5zooYengK3Ls2O6QcFfyLTPOtfp3rnmo+6e9qL+pwamDpcWcR4sJsEtJzVZPE1D/klkUHlWOFyZYZlmMWtdbxlzYXYzeYp7ZX3Bfp9/+3/XfzN/Dn5qfEp6rneadBBxFW2raNljol4MWRxT2Uw0Rkw/KDjQMEspoiHaGf4REwokAjj6VfKF6s7iOtvP05XMlMXRvlO4IrJCrLqmkKHHnGWYbpTlkM+NLYsCiVCHGYZchRyFWIUOhj+H6YgJi56NpJAZlPeXPZzjoOelQqvwsOm2KL2mw17KR9Fa2JLf5eZN7sL1Pf21BCUMhBPLGvIh8ijFL2Q2xzzqQsVIVE6QU3VY/lwmYepkRmg3a7ttzm9wcZ5yWXOec3BzzXK4cTBwOW7VawVpzWUyYjVe3VktVSpQ2kpDRWk/UzkIM40s6iUlH0UYURFRCkoDRvxK9V3uhufM4Dfay9ORzY3HxsFCvAW3FrJ4rTCpQ6WzoYWeu5tXmV2XzZWplPKTp5PLk1qUVpW9loyYwppdnVigsqNnp3Krz696tG65pb4bxMjJqc+11ejbPOKo6Cjvs/VF/NUCXgnZD0AWixy2Irkojy4xNJw5yD6yQ1RIqkyvUGFUu1e6Wlxdnl9+YftiE2TFZBJl+WR6ZJdjUGKnYJ9eOFx3WV1W71IwTyRL0EY4QmA9TzgIM5It8ycvIk4cVBZJEDEKFAT5/eP32vHk6wfmSOCu2j7V/M/wyhzGhsEzvSa5ZLXwsc2u/quGqWanoqU6pC+jgqI0okWitKKAo6mkLaYKqD2qxqygr8myPbb4ufe9NcKtxlzLPNBI1Xvaz99A5cbqXvAB9qn7UQHzBokMDhJ9F88cACIKJ+krmDASNVM5Vj0ZQZZEzEe3SlRNok+dUURTl1STVThWhVZ8VhtWZVVYVPhSRlFDT/NMV0pyR0hE3EAyPU45MzXmMGwsyScCIx0eHRkIFOQOtQmCBE//Ifr99Onv6eoE5j3hmdwd2M7Trs/DyxHImcRhwWu+ubtPuS63WLXPs5WyqbENscGwxLAYsbuxrLLps3O1Rbdgub+7YL5CwV/EtsdCywDP69IA1zvblt8O5J3oQO3x8av2a/spAOMElAk3DscSPxebG9gf8CPgJ6QrOC+ZMsQ1tThrO+I9GEALQrpDI0VFRh9HsUf6R/pHskciR0tGLkXNQylCREAgPsA7JjlWNlIzHTC7LDApfyWtIbwdshmSFWIRJA3dCJIERwAC/MT3k/Nz72jrd+ej4+/fYNz42LvVrdLQzybNs8p4yHfGs8Qsw+TB3MAVwI+/S79Iv4a/BcDDwMHB/MJzxCTGDcgtyoDMBc+30ZXUnNfI2hXegOEH5aToVOwU8N/zsveI+1//MAP7BroKaQ4GEowV+BhGHHQffyJjJR0orCoNLT0vOzEFM5k09jUcNwg4uzgzOXI5djlAOdE4KjhKNzQ26TRrM7ox2i/MLZIrMCmnJvsjLiFDHj4bIRjxFK8RYQ4IC6gHRgTkAIb9L/rj9qTzdvBc7VnqcOek5Pjhbt8I3cjastjG1gbVdNMS0t/Q3s8Pz3LOCM7Rzc3N+81czu7Osc+j0MTREdOK1CzW9tfm2fnbLt6B4PDieeUY6MzqkO1j8ELzKPYU+QP88f7aAb0EmAdmCiUN0g9rEu0UVhekGdQb5B3TH54hRSPFJB4mTidUKDAp4SlmKsAq7irwKsgqdCr2KU4pfiiHJ2kmJyXBIzoikyDOHu0c8hrgGLgWfhQyEtkPdA0GC5EIGAadAyQBr/4//Nf5evcr9evyvPCh7pvsrerZ6B/nguUD5KPiY+FF4EnfcN673Srdvdx13FLcUtx33L/cKt243WfeN98m4DPhXuKj4wPle+YJ6K3pY+sq7QHv5fDT8sv0yfbN+NP62vzf/uAA3ALRBLwGnAhvCjIM5g2HDxQRjRLvEzoVaxaEF4EYZBkqGtQaYRvRGyQcWRxxHGwcShwLHLEbPBusGgMaQRloGHgXchZZFS0U8BKjEUgQ4A5tDfALawrhCFEHvwUrBJgCBwF7//L9cfz3+oj5I/jK9n/1Q/QX8/vx8vD77xfvSO6N7ejsWOze63vrLev26tXqy+rW6vfqLOt369XrRuzL7GHtCO6/7oXvWfA68SfyH/Mg9Cn1OvZQ92v4ivmq+sz77fwN/ir/QgBXAWUCbANrBGIFTgYwBwcI0QiPCT8K4Qp1C/sLcQzYDDANeA2xDdsN9Q0ADvwN6Q3JDZoNXg0VDcAMYAz0C34L/wp3CuYJTwmxCA4IZge6BgwGWwWpBPYDRAOTAuMBNwGOAOr/Sv+v/hr+i/0E/YT8C/yb+zT71fp/+jL67/m0+YP5W/k9+Sf5GvkW+Rv5J/k7+Vb5efmi+dH5Bfo/+n76wPoG+0/7mvvo+zf8hvzW/Cb9df3D/Q/+WP6g/uT+Jf9j/5z/0v8BAC0AVQB3AJQArQDAAM4A1wDbANoA1QDLAL0AqwCWAH0AYQBDACIAAAA=\" type=\"audio/wav\" />\n",
       "                    Your browser does not support the audio element.\n",
       "                </audio>\n",
       "              "
      ],
      "text/plain": [
       "<IPython.lib.display.Audio object>"
      ]
     },
     "metadata": {},
     "output_type": "display_data"
    },
    {
     "data": {
      "text/html": [
       "<span><style>audio{display:none}</style><span>"
      ],
      "text/plain": [
       "<IPython.core.display.HTML object>"
      ]
     },
     "metadata": {},
     "output_type": "display_data"
    }
   ],
   "source": [
    "# only import these once per session\n",
    "from tqdm_ricker import tqdm_audio_ticker, tqdm_audio_ricker, tqdm_music_ticker\n",
    "\n",
    "import urllib\n",
    "import os\n",
    "import time"
   ]
  },
  {
   "cell_type": "markdown",
   "metadata": {},
   "source": [
    "## Retro blip ticker"
   ]
  },
  {
   "cell_type": "code",
   "execution_count": 2,
   "metadata": {},
   "outputs": [
    {
     "name": "stderr",
     "output_type": "stream",
     "text": [
      "matryoshka.zip:   0%|          | 33.0/260k [00:01<4:20:28, 16.6B/s] \n"
     ]
    }
   ],
   "source": [
    "eg_link = \"https://caspersci.uk.to/matryoshka.zip\"\n",
    "with tqdm_audio_ticker(unit='B', unit_scale=True, miniters=1,\n",
    "              desc=eg_link.split('/')[-1]) as t:  # all optional kwargs\n",
    "    urllib.request.urlretrieve(eg_link, filename=os.devnull,\n",
    "                       reporthook=t.update_to, data=None)"
   ]
  },
  {
   "cell_type": "code",
   "execution_count": 3,
   "metadata": {},
   "outputs": [
    {
     "name": "stderr",
     "output_type": "stream",
     "text": [
      "Processing z: 100%|██████████| 26/26 [00:02<00:00,  9.22it/s]\n"
     ]
    }
   ],
   "source": [
    "with tqdm_audio_ticker([\"a\", \"b\", \"c\", \"d\", \"e\", \"f\", \"g\", \"h\", \"i\", \"j\", \"k\", \"l\", \"m\", \"n\",\n",
    "                      \"o\", \"p\", \"q\", \"r\", \"s\", \"t\", \"u\", \"v\", \"w\", \"x\", \"y\", \"z\"],\n",
    "                     freq_step=20) as pbar:\n",
    "    for char in pbar:\n",
    "        pbar.set_description(\"Processing %s\" % char)\n",
    "        time.sleep(0.1)"
   ]
  },
  {
   "cell_type": "code",
   "execution_count": 4,
   "metadata": {},
   "outputs": [
    {
     "name": "stderr",
     "output_type": "stream",
     "text": [
      "Processing z: 100%|██████████| 26/26 [00:03<00:00,  7.74it/s]\n"
     ]
    }
   ],
   "source": [
    "with tqdm_audio_ticker([\"a\", \"b\", \"c\", \"d\", \"e\", \"f\", \"g\", \"h\", \"i\", \"j\", \"k\", \"l\", \"m\", \"n\",\n",
    "                      \"o\", \"p\", \"q\", \"r\", \"s\", \"t\", \"u\", \"v\", \"w\", \"x\", \"y\", \"z\"],\n",
    "                     total=26, duration=0.1, freq_step=-50, start_freq=1500) as pbar:\n",
    "    for char in pbar:\n",
    "        pbar.set_description(\"Processing %s\" % char)\n",
    "        time.sleep(0.12)"
   ]
  },
  {
   "cell_type": "markdown",
   "metadata": {},
   "source": [
    "## Ricker -- *woo vu lubub dub dub*"
   ]
  },
  {
   "cell_type": "code",
   "execution_count": 5,
   "metadata": {},
   "outputs": [
    {
     "name": "stderr",
     "output_type": "stream",
     "text": [
      "matryoshka.zip:   0%|          | 33.0/260k [00:01<3:09:33, 22.8B/s] \n"
     ]
    }
   ],
   "source": [
    "eg_link = \"https://caspersci.uk.to/matryoshka.zip\"\n",
    "with tqdm_audio_ricker(unit='B', unit_scale=True, miniters=1,\n",
    "              desc=eg_link.split('/')[-1], total=50) as t:  # all optional kwargs\n",
    "    urllib.request.urlretrieve(eg_link, filename=os.devnull,\n",
    "                       reporthook=t.update_to, data=None)"
   ]
  },
  {
   "cell_type": "code",
   "execution_count": 6,
   "metadata": {},
   "outputs": [
    {
     "name": "stderr",
     "output_type": "stream",
     "text": [
      "Processing z: 100%|██████████| 26/26 [00:03<00:00,  7.78it/s]\n"
     ]
    }
   ],
   "source": [
    "with tqdm_audio_ricker([\"a\", \"b\", \"c\", \"d\", \"e\", \"f\", \"g\", \"h\", \"i\", \"j\", \"k\", \"l\", \"m\", \"n\",\n",
    "                      \"o\", \"p\", \"q\", \"r\", \"s\", \"t\", \"u\", \"v\", \"w\", \"x\", \"y\", \"z\"],\n",
    "                     total=26) as pbar:\n",
    "    for char in pbar:\n",
    "        pbar.set_description(\"Processing %s\" % char)\n",
    "        time.sleep(0.12)"
   ]
  },
  {
   "cell_type": "markdown",
   "metadata": {},
   "source": [
    "## Make your own tone sequence!\n",
    "\n",
    "### e.g. Close Encounters"
   ]
  },
  {
   "cell_type": "code",
   "execution_count": 7,
   "metadata": {},
   "outputs": [],
   "source": [
    "from note_utils import *\n",
    "# this is actually the default if you don't specify a `seq` parameter\n",
    "ce_sequence = [('G', 4, EIGHTH_NOTE), ('A', 4, EIGHTH_NOTE), ('F', 4, EIGHTH_NOTE),\n",
    "               ('F', 3, EIGHTH_NOTE), ('C', 4, QUARTER_NOTE)]"
   ]
  },
  {
   "cell_type": "code",
   "execution_count": 8,
   "metadata": {},
   "outputs": [
    {
     "name": "stderr",
     "output_type": "stream",
     "text": [
      "Processing 4999: : 5000it [00:05, 843.97it/s]        \n"
     ]
    }
   ],
   "source": [
    "with tqdm_music_ticker(range(5000),\n",
    "                     total=26, note_duration=0.08, every=100, seq=ce_sequence) as pbar:\n",
    "    for char in pbar:\n",
    "        pbar.set_description(\"Processing %s\" % char)"
   ]
  },
  {
   "cell_type": "code",
   "execution_count": null,
   "metadata": {},
   "outputs": [],
   "source": []
  }
 ],
 "metadata": {
  "kernelspec": {
   "display_name": "Python 3",
   "language": "python",
   "name": "python3"
  },
  "language_info": {
   "codemirror_mode": {
    "name": "ipython",
    "version": 3
   },
   "file_extension": ".py",
   "mimetype": "text/x-python",
   "name": "python",
   "nbconvert_exporter": "python",
   "pygments_lexer": "ipython3",
   "version": "3.6.5"
  }
 },
 "nbformat": 4,
 "nbformat_minor": 2
}
