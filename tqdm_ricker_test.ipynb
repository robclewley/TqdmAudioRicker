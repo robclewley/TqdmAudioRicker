{
 "cells": [
  {
   "cell_type": "markdown",
   "metadata": {},
   "source": [
    "# Tqdm audio progress ticker and Ricker for Jupyter notebooks"
   ]
  },
  {
   "cell_type": "code",
   "execution_count": 1,
   "metadata": {
    "scrolled": true
   },
   "outputs": [
    {
     "data": {
      "text/html": [
       "\n",
       "                <audio controls=\"controls\" autoplay=\"autoplay\">\n",
       "                    <source src=\"data:audio/wav;base64,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\" type=\"audio/wav\" />\n",
       "                    Your browser does not support the audio element.\n",
       "                </audio>\n",
       "              "
      ],
      "text/plain": [
       "<IPython.lib.display.Audio object>"
      ]
     },
     "metadata": {},
     "output_type": "display_data"
    },
    {
     "data": {
      "text/html": [
       "<span><style>audio{display:none}</style><span>"
      ],
      "text/plain": [
       "<IPython.core.display.HTML object>"
      ]
     },
     "metadata": {},
     "output_type": "display_data"
    },
    {
     "data": {
      "text/html": [
       "\n",
       "                <audio controls=\"controls\" autoplay=\"autoplay\">\n",
       "                    <source src=\"data:audio/wav;base64,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\" type=\"audio/wav\" />\n",
       "                    Your browser does not support the audio element.\n",
       "                </audio>\n",
       "              "
      ],
      "text/plain": [
       "<IPython.lib.display.Audio object>"
      ]
     },
     "metadata": {},
     "output_type": "display_data"
    },
    {
     "data": {
      "text/html": [
       "<span><style>audio{display:none}</style><span>"
      ],
      "text/plain": [
       "<IPython.core.display.HTML object>"
      ]
     },
     "metadata": {},
     "output_type": "display_data"
    }
   ],
   "source": [
    "from tqdm_ricker import tqdm_audio_ticker, tqdm_audio_ricker # only import these once per session\n",
    "import urllib\n",
    "import os\n",
    "import time"
   ]
  },
  {
   "cell_type": "markdown",
   "metadata": {},
   "source": [
    "## Retro blip ticker"
   ]
  },
  {
   "cell_type": "code",
   "execution_count": 2,
   "metadata": {},
   "outputs": [
    {
     "name": "stderr",
     "output_type": "stream",
     "text": [
      "matryoshka.zip:   0%|          | 33.0/260k [00:01<2:48:21, 25.7B/s] \n"
     ]
    }
   ],
   "source": [
    "eg_link = \"https://caspersci.uk.to/matryoshka.zip\"\n",
    "with tqdm_audio_ticker(unit='B', unit_scale=True, miniters=1,\n",
    "              desc=eg_link.split('/')[-1]) as t:  # all optional kwargs\n",
    "    urllib.request.urlretrieve(eg_link, filename=os.devnull,\n",
    "                       reporthook=t.update_to, data=None)"
   ]
  },
  {
   "cell_type": "code",
   "execution_count": 3,
   "metadata": {},
   "outputs": [
    {
     "name": "stderr",
     "output_type": "stream",
     "text": [
      "Processing z: 100%|██████████| 26/26 [00:02<00:00,  9.24it/s]\n"
     ]
    }
   ],
   "source": [
    "with tqdm_audio_ticker([\"a\", \"b\", \"c\", \"d\", \"e\", \"f\", \"g\", \"h\", \"i\", \"j\", \"k\", \"l\", \"m\", \"n\",\n",
    "                      \"o\", \"p\", \"q\", \"r\", \"s\", \"t\", \"u\", \"v\", \"w\", \"x\", \"y\", \"z\"],\n",
    "                     freq_step=20) as pbar:\n",
    "    for char in pbar:\n",
    "        pbar.set_description(\"Processing %s\" % char)\n",
    "        time.sleep(0.1)"
   ]
  },
  {
   "cell_type": "markdown",
   "metadata": {},
   "source": [
    "## Ricker -- *woo vu lubub dub dub*"
   ]
  },
  {
   "cell_type": "code",
   "execution_count": 4,
   "metadata": {},
   "outputs": [
    {
     "name": "stderr",
     "output_type": "stream",
     "text": [
      "matryoshka.zip:   0%|          | 33.0/260k [00:01<3:00:34, 24.0B/s] \n"
     ]
    }
   ],
   "source": [
    "eg_link = \"https://caspersci.uk.to/matryoshka.zip\"\n",
    "with tqdm_audio_ricker(unit='B', unit_scale=True, miniters=1,\n",
    "              desc=eg_link.split('/')[-1], total=50) as t:  # all optional kwargs\n",
    "    urllib.request.urlretrieve(eg_link, filename=os.devnull,\n",
    "                       reporthook=t.update_to, data=None)"
   ]
  },
  {
   "cell_type": "code",
   "execution_count": 5,
   "metadata": {},
   "outputs": [
    {
     "name": "stderr",
     "output_type": "stream",
     "text": [
      "Processing z: 100%|██████████| 26/26 [00:03<00:00,  7.78it/s]\n"
     ]
    }
   ],
   "source": [
    "with tqdm_audio_ricker([\"a\", \"b\", \"c\", \"d\", \"e\", \"f\", \"g\", \"h\", \"i\", \"j\", \"k\", \"l\", \"m\", \"n\",\n",
    "                      \"o\", \"p\", \"q\", \"r\", \"s\", \"t\", \"u\", \"v\", \"w\", \"x\", \"y\", \"z\"],\n",
    "                     total=26) as pbar:\n",
    "    for char in pbar:\n",
    "        pbar.set_description(\"Processing %s\" % char)\n",
    "        time.sleep(0.12)"
   ]
  },
  {
   "cell_type": "code",
   "execution_count": 6,
   "metadata": {},
   "outputs": [
    {
     "name": "stderr",
     "output_type": "stream",
     "text": [
      "Processing z: 100%|██████████| 26/26 [00:03<00:00,  7.76it/s]\n"
     ]
    }
   ],
   "source": [
    "with tqdm_audio_ticker([\"a\", \"b\", \"c\", \"d\", \"e\", \"f\", \"g\", \"h\", \"i\", \"j\", \"k\", \"l\", \"m\", \"n\",\n",
    "                      \"o\", \"p\", \"q\", \"r\", \"s\", \"t\", \"u\", \"v\", \"w\", \"x\", \"y\", \"z\"],\n",
    "                     total=26, duration=0.1, freq_step=-50, start_freq=1500) as pbar:\n",
    "    for char in pbar:\n",
    "        pbar.set_description(\"Processing %s\" % char)\n",
    "        time.sleep(0.12)"
   ]
  },
  {
   "cell_type": "code",
   "execution_count": null,
   "metadata": {},
   "outputs": [],
   "source": []
  }
 ],
 "metadata": {
  "kernelspec": {
   "display_name": "Python 3",
   "language": "python",
   "name": "python3"
  },
  "language_info": {
   "codemirror_mode": {
    "name": "ipython",
    "version": 3
   },
   "file_extension": ".py",
   "mimetype": "text/x-python",
   "name": "python",
   "nbconvert_exporter": "python",
   "pygments_lexer": "ipython3",
   "version": "3.6.5"
  }
 },
 "nbformat": 4,
 "nbformat_minor": 2
}
